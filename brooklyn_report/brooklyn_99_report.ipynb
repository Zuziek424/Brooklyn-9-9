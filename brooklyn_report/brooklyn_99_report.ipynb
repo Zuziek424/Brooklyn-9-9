{
 "cells": [
  {
   "cell_type": "markdown",
   "id": "e890d818",
   "metadata": {},
   "source": [
    "# Viewership for TV series Brooklyn Nine-Nine "
   ]
  }
 ],
 "metadata": {
  "kernelspec": {
   "display_name": "Python 3",
   "language": "python",
   "name": "python3"
  },
  "language_info": {
   "name": "python",
   "version": "3.10.0"
  }
 },
 "nbformat": 4,
 "nbformat_minor": 5
}
