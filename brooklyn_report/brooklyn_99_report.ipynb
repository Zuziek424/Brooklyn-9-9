{
 "cells": [
  {
   "cell_type": "markdown",
   "id": "62e3d2c9",
   "metadata": {},
   "source": [
    "<h1 style=\"text-align:center; text-shadow: 1px 1px 2px black;\">\n",
    "  Viewership for TV series \n",
    "  <span style=\"color:gold;\">\n",
    "    <span style=\"font-family:Impact, sans-serif; font-style:oblique; font-weight:bold; font-size:1.25em;\">\n",
    "      Brooklyn\n",
    "    </span>\n",
    "    <span style=\"font-family:'Helvetica Neue', Helvetica, sans-serif; font-weight:900; font-style:italic;\">\n",
    "      Nine-Nine\n",
    "    </span>\n",
    "  </span>\n",
    "</h1>\n"
   ]
  },
  {
   "cell_type": "markdown",
   "id": "de6bcfce",
   "metadata": {},
   "source": [
    "![Brooklyn Nine-Nine Poster](brooklyn-99-poster.webp)\n",
    "\n",
    "*Source of image: [NBC Store](https://www.nbcstore.com/collections/brooklyn-nine-nine)*\n"
   ]
  },
  {
   "cell_type": "markdown",
   "id": "92086733",
   "metadata": {},
   "source": [
    "## About the show\n",
    "\n",
    "*Brooklyn Nine-Nine* is an American police procedural sitcom television series that aired on Fox, and later on NBC, from **September 17, 2013**, to **September 16, 2021**, for eight seasons and 153 episodes. Created by [Dan Goor](https://en.wikipedia.org/wiki/Dan_Goor) and [Michael Schur](https://en.wikipedia.org/wiki/Michael_Schur), it revolves around seven New York City Police Department (NYPD) detectives who are adjusting to life under their new commanding officer, the serious and stern Captain Raymond Holt ([Andre Braugher](https://en.wikipedia.org/wiki/Andre_Braugher)). [Andy Samberg](https://en.wikipedia.org/wiki/Andy_Samberg) led the ensemble cast, which featured [Braugher](https://en.wikipedia.org/wiki/Andre_Braugher), [Stephanie Beatriz](https://en.wikipedia.org/wiki/Stephanie_Beatriz), [Terry Crews](https://en.wikipedia.org/wiki/Terry_Crews), [Melissa Fumero](https://en.wikipedia.org/wiki/Melissa_Fumero), [Joe Lo Truglio](https://en.wikipedia.org/wiki/Joe_Lo_Truglio), [Chelsea Peretti](https://en.wikipedia.org/wiki/Chelsea_Peretti), [Dirk Blocker](https://en.wikipedia.org/wiki/Dirk_Blocker), and [Joel McKinnon Miller](https://en.wikipedia.org/wiki/Joel_McKinnon_Miller).\n",
    "\n",
    "Fox originally ordered 13 episodes of the single-camera comedy for its first season, eventually expanding it to 22 episodes. *Brooklyn Nine-Nine* premiered on **September 17, 2013**. On **May 10, 2018**, Fox cancelled it after five seasons; the next day, NBC picked it up for a sixth season, which premiered on **January 10, 2019**. The seventh season premiered in **February 2020**. The 10-episode eighth and final season premiered on **August 12, 2021**.\n",
    "\n",
    "\n",
    "\n",
    "*Source of text: [Wikipedia](https://en.wikipedia.org/wiki/Brooklyn_Nine-Nine#Episodes)*"
   ]
  },
  {
   "cell_type": "markdown",
   "id": "7eb6e073",
   "metadata": {},
   "source": [
    "## Critical Acclaim vs. Viewership\n",
    "\n",
    "*Brooklyn Nine-Nine* was widely praised by critics and audiences alike — but did that acclaim translate into strong and sustained viewership?\n",
    "\n",
    "### Awards & Recognition:\n",
    "\n",
    "- 🏆 **Golden Globe Award for Best Television Series – Musical or Comedy** (Season 1)\n",
    "- 🏆 **Golden Globe Award for Best Actor – Television Series Musical or Comedy**  \n",
    "  Awarded to [Andy Samberg](https://en.wikipedia.org/wiki/Andy_Samberg) for his performance as Jake Peralta (Season 1)\n",
    "- 🏆 **Critics' Choice Television Award for Best Supporting Actor in a Comedy Series**  \n",
    "  Awarded twice to [Andre Braugher](https://en.wikipedia.org/wiki/Andre_Braugher)\n",
    "- 🎭 **Primetime Emmy Award for Outstanding Supporting Actor in a Comedy Series**  \n",
    "  [Andre Braugher](https://en.wikipedia.org/wiki/Andre_Braugher) was nominated four times\n",
    "- 🌈 **GLAAD Media Award for Outstanding Comedy Series** (2018)  \n",
    "  Honoring its portrayal of LGBTQ+ characters and inclusive storytelling\n",
    "\n",
    "<!-- Add any additional awards (e.g. People's Choice, TCA) if needed -->\n",
    "\n",
    "Despite the critical acclaim, the series faced fluctuating viewership across seasons — even facing cancellation before being revived by another network. Let’s explore how those viewership numbers evolved over time.\n",
    "\n",
    "*Source of information: [Wikipedia](https://en.wikipedia.org/wiki/Brooklyn_Nine-Nine#Episodes)*\n"
   ]
  }
 ],
 "metadata": {
  "kernelspec": {
   "display_name": "Python 3",
   "language": "python",
   "name": "python3"
  },
  "language_info": {
   "codemirror_mode": {
    "name": "ipython",
    "version": 3
   },
   "file_extension": ".py",
   "mimetype": "text/x-python",
   "name": "python",
   "nbconvert_exporter": "python",
   "pygments_lexer": "ipython3",
   "version": "3.10.0"
  }
 },
 "nbformat": 4,
 "nbformat_minor": 5
}
