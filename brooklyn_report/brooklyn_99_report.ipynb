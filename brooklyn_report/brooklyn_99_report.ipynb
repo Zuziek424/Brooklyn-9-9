{
 "cells": [
  {
   "cell_type": "markdown",
   "id": "62e3d2c9",
   "metadata": {},
   "source": [
    "<h1 style=\"text-align:left; text-shadow: 1px 1px 2px black;\">\n",
    "  Viewership for TV series \n",
    "  <span style=\"color:gold;\">\n",
    "    <span style=\"font-family:Impact, sans-serif; font-style:oblique; font-weight:bold; font-size:1.25em;\">\n",
    "      Brooklyn\n",
    "    </span>\n",
    "    <span style=\"font-family:'Helvetica Neue', Helvetica, sans-serif; font-weight:900; font-style:italic;\">\n",
    "      Nine-Nine\n",
    "    </span>\n",
    "  </span>\n",
    "</h1>\n"
   ]
  },
  {
   "cell_type": "markdown",
   "id": "de6bcfce",
   "metadata": {},
   "source": [
    "![Brooklyn Nine-Nine Poster](brooklyn-99-poster.webp)\n",
    "\n",
    "*Source of image: [NBC Store](https://www.nbcstore.com/collections/brooklyn-nine-nine)*\n"
   ]
  }
 ],
 "metadata": {
  "kernelspec": {
   "display_name": "Python 3",
   "language": "python",
   "name": "python3"
  },
  "language_info": {
   "codemirror_mode": {
    "name": "ipython",
    "version": 3
   },
   "file_extension": ".py",
   "mimetype": "text/x-python",
   "name": "python",
   "nbconvert_exporter": "python",
   "pygments_lexer": "ipython3",
   "version": "3.10.0"
  }
 },
 "nbformat": 4,
 "nbformat_minor": 5
}
